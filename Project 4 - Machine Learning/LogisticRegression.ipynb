{
 "cells": [
  {
   "cell_type": "code",
   "execution_count": 2,
   "metadata": {
    "collapsed": false
   },
   "outputs": [
    {
     "name": "stdout",
     "output_type": "stream",
     "text": [
      "Factorizing categorical variables...\n",
      "['cat1', 'cat2', 'cat3', 'cat4', 'cat5', 'cat6', 'cat7', 'cat8', 'cat9', 'cat10', 'cat11', 'cat12', 'cat13', 'cat14', 'cat15', 'cat16', 'cat17', 'cat18', 'cat19', 'cat20', 'cat21', 'cat22', 'cat23', 'cat24', 'cat25', 'cat26', 'cat27', 'cat28', 'cat29', 'cat30', 'cat31', 'cat32', 'cat33', 'cat34', 'cat35', 'cat36', 'cat37', 'cat38', 'cat39', 'cat40', 'cat41', 'cat42', 'cat43', 'cat44', 'cat45', 'cat46', 'cat47', 'cat48', 'cat49', 'cat50', 'cat51', 'cat52', 'cat53', 'cat54', 'cat55', 'cat56', 'cat57', 'cat58', 'cat59', 'cat60', 'cat61', 'cat62', 'cat63', 'cat64', 'cat65', 'cat66', 'cat67', 'cat68', 'cat69', 'cat70', 'cat71', 'cat72', 'cat73', 'cat74', 'cat75', 'cat76', 'cat77', 'cat78', 'cat79', 'cat80', 'cat81', 'cat82', 'cat83', 'cat84', 'cat85', 'cat86', 'cat87', 'cat88', 'cat89', 'cat90', 'cat91', 'cat92', 'cat93', 'cat94', 'cat95', 'cat96', 'cat97', 'cat98', 'cat99', 'cat100', 'cat101', 'cat102', 'cat103', 'cat104', 'cat105', 'cat106', 'cat107', 'cat108', 'cat109', 'cat110', 'cat111', 'cat112', 'cat113', 'cat114', 'cat115', 'cat116', 'cat117', 'cat118']\n"
     ]
    }
   ],
   "source": [
    "import pandas as pd\n",
    "import numpy as np\n",
    "\n",
    "# Read in data with outlier classes\n",
    "train = pd.read_csv('input/trainv5.csv')\n",
    "\n",
    "# Factorize categorical variables\n",
    "print (\"Factorizing categorical variables...\")\n",
    "features = train.columns\n",
    "cats = [feat for feat in features if 'cat' in feat]\n",
    "print cats\n",
    "for feat in cats:\n",
    "    train[feat] = pd.factorize(train[feat], sort=True)[0]\n",
    "    \n",
    "y = train['cat118']\n",
    "ids_train = train['id']\n",
    "X = train.drop(['loss', 'id','cat118'], 1)"
   ]
  },
  {
   "cell_type": "code",
   "execution_count": null,
   "metadata": {
    "collapsed": false
   },
   "outputs": [],
   "source": [
    "#Train KFold Logistic Regression\n",
    "seed = 0\n",
    "val_size = 0.2\n",
    "\n",
    "from sklearn import cross_validation\n",
    "from sklearn.cross_validation import KFold\n",
    "from sklearn.linear_model import LogisticRegression\n",
    "from sklearn.metrics import confusion_matrix\n",
    "from sklearn import metrics\n",
    "\n",
    "n_folds = 10\n",
    "y_final = 0\n",
    "kf = KFold(X.shape[0], n_folds=n_folds, shuffle = True)\n",
    "#X_train, X_val, Y_train, Y_val = cross_validation.train_test_split(X, y, test_size=val_size, random_state=seed)\n",
    "for train_index, test_index in kf:\n",
    "    X_train, X_val = X.iloc[train_index], X.iloc[test_index]\n",
    "    y_train, y_val = y.iloc[train_index], y.iloc[test_index]\n",
    "    logreg = LogisticRegression(C = 1)\n",
    "    logreg.fit(X_train, y_train)\n",
    "    y_pred = logreg.predict(X_val)\n",
    "    print confusion_matrix(y_val, y_pred)\n",
    "    print metrics.accuracy_score(y_val, y_pred)\n",
    "    y_final += logreg.predict_proba(X)\n",
    "    \n",
    "y_final /= n_folds\n",
    "    \n",
    "\n",
    "\n"
   ]
  },
  {
   "cell_type": "code",
   "execution_count": 6,
   "metadata": {
    "collapsed": false
   },
   "outputs": [],
   "source": [
    "#project probabilities to numerical classes\n",
    "\n",
    "def class_func(probs, threshold):\n",
    "    y_pred = map(lambda x: (x <= threshold).astype('int'), probs)\n",
    "    return y_pred\n"
   ]
  },
  {
   "cell_type": "code",
   "execution_count": 7,
   "metadata": {
    "collapsed": false
   },
   "outputs": [
    {
     "data": {
      "text/plain": [
       "LogisticRegression(C=1.0, class_weight=None, dual=False, fit_intercept=True,\n",
       "          intercept_scaling=1, max_iter=100, multi_class='ovr', n_jobs=1,\n",
       "          penalty='l2', random_state=None, solver='liblinear', tol=0.0001,\n",
       "          verbose=0, warm_start=False)"
      ]
     },
     "execution_count": 7,
     "metadata": {},
     "output_type": "execute_result"
    }
   ],
   "source": [
    "# Run only one cross validation 80-20 split\n",
    "seed = 0\n",
    "val_size = 0.2\n",
    "\n",
    "from sklearn import cross_validation\n",
    "from sklearn.cross_validation import KFold\n",
    "from sklearn.linear_model import LogisticRegression\n",
    "from sklearn.metrics import confusion_matrix\n",
    "from sklearn import metrics\n",
    "\n",
    "X_train, X_val, Y_train, Y_val = cross_validation.train_test_split(X, y, test_size=val_size, random_state=seed)\n",
    "logreg = LogisticRegression()\n",
    "logreg.fit(X_train, Y_train)"
   ]
  },
  {
   "cell_type": "code",
   "execution_count": 35,
   "metadata": {
    "collapsed": false
   },
   "outputs": [
    {
     "name": "stdout",
     "output_type": "stream",
     "text": [
      "0.633157332641\n",
      "0.975291793668\n"
     ]
    }
   ],
   "source": [
    "# Calculate accuracy and AUC\n",
    "from sklearn.metrics import roc_auc_score as ras\n",
    "\n",
    "y_probs = logreg.predict_proba(X)\n",
    "y_pred = class_func(y_probs[:,0], 0.5)\n",
    "print ras(y, y_pred)\n",
    "print metrics.accuracy_score(y, y_pred)\n"
   ]
  }
 ],
 "metadata": {
  "anaconda-cloud": {},
  "kernelspec": {
   "display_name": "Python [Root]",
   "language": "python",
   "name": "Python [Root]"
  },
  "language_info": {
   "codemirror_mode": {
    "name": "ipython",
    "version": 2
   },
   "file_extension": ".py",
   "mimetype": "text/x-python",
   "name": "python",
   "nbconvert_exporter": "python",
   "pygments_lexer": "ipython2",
   "version": "2.7.12"
  }
 },
 "nbformat": 4,
 "nbformat_minor": 0
}
