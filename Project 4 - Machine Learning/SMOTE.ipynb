{
 "cells": [
  {
   "cell_type": "code",
   "execution_count": null,
   "metadata": {
    "collapsed": false
   },
   "outputs": [],
   "source": [
    "import numpy as np\n",
    "\n",
    "from sklearn.datasets import make_classification\n",
    "from sklearn.decomposition import PCA\n",
    "from sklearn.svm import SVC\n",
    "\n",
    "from imblearn.under_sampling import RandomUnderSampler\n",
    "from imblearn.under_sampling import NearMiss\n",
    "from imblearn.under_sampling import CondensedNearestNeighbour\n",
    "from imblearn.under_sampling import OneSidedSelection\n",
    "from imblearn.under_sampling import NeighbourhoodCleaningRule\n",
    "from imblearn.under_sampling import TomekLinks\n",
    "from imblearn.under_sampling import ClusterCentroids\n",
    "from imblearn.under_sampling import EditedNearestNeighbours\n",
    "from imblearn.under_sampling import InstanceHardnessThreshold\n",
    "from imblearn.under_sampling import RepeatedEditedNearestNeighbours\n",
    "\n",
    "from imblearn.over_sampling import RandomOverSampler\n",
    "from imblearn.over_sampling import SMOTE\n",
    "\n",
    "from imblearn.combine import SMOTETomek\n",
    "from imblearn.combine import SMOTEENN\n",
    "\n",
    "from imblearn.ensemble import EasyEnsemble\n",
    "from imblearn.ensemble import BalanceCascade"
   ]
  },
  {
   "cell_type": "code",
   "execution_count": null,
   "metadata": {
    "collapsed": false
   },
   "outputs": [],
   "source": [
    "import pandas as pd\n",
    "import numpy as np\n",
    "\n",
    "train = pd.read_csv('input/trainv5.csv')\n",
    "\n",
    "## cat117 is cont 2\n",
    "## cat 118 is High vs. Low\n",
    "print (\"Factorizing categorical variables...\")\n",
    "features = train.columns\n",
    "cats = [feat for feat in features if 'cat' in feat]\n",
    "#print cats\n",
    "for feat in cats:\n",
    "    train[feat] = pd.factorize(train[feat], sort=True)[0]\n",
    "\n",
    "y = train['cat118']\n",
    "ids_train = train['id']\n",
    "X = train.drop(['id', 'cat118'], 1)"
   ]
  },
  {
   "cell_type": "code",
   "execution_count": null,
   "metadata": {
    "collapsed": false
   },
   "outputs": [],
   "source": [
    "# Generate the new dataset using SMOTE + under-sampling method\n",
    "verbose = True\n",
    "ratio = 0.1\n",
    "\n",
    "# 'SMOTE ENN'\n",
    "SENN = SMOTEENN(ratio=0.05)\n",
    "ennx1, enny1 = SENN.fit_sample(X, y)\n",
    "\n",
    "SENN = SMOTEENN(ratio=0.1)\n",
    "ennx2, enny2 = SENN.fit_sample(X, y)\n",
    "\n",
    "SENN = SMOTEENN(ratio=0.15)\n",
    "ennx3, enny3 = SENN.fit_sample(X, y)\n",
    "\n",
    "SENN = SMOTEENN(ratio=0.2)\n",
    "ennx4, enny4 = SENN.fit_sample(X, y)\n"
   ]
  },
  {
   "cell_type": "code",
   "execution_count": null,
   "metadata": {
    "collapsed": false
   },
   "outputs": [],
   "source": [
    "#Convert numeric array to dataframe with column names\n",
    "def array2df(ennx, enny, train):\n",
    "    ennx = pd.DataFrame(ennx,columns = list(train.columns[1:132]))\n",
    "    enny = pd.DataFrame(enny, columns = ['cat118'])\n",
    "    train_enn = pd.concat([ennx,enny],axis =1)\n",
    "    return train_enn\n",
    "\n",
    "# Convert arrays to df\n",
    "train_enn1 = array2df(ennx1,enny1,train)\n",
    "train_enn2 = array2df(ennx2,enny2,train)\n",
    "train_enn3 = array2df(ennx3,enny3,train)\n",
    "train_enn4 = array2df(ennx4,enny4,train)\n"
   ]
  },
  {
   "cell_type": "code",
   "execution_count": null,
   "metadata": {
    "collapsed": false
   },
   "outputs": [],
   "source": [
    "#Round to the nearest integer and save to csv\n",
    "\n",
    "train_enn1.iloc[:,0:116] = train_enn1.iloc[:,0:116].round(0)\n",
    "train_enn1.iloc[:,130] = train_enn1.iloc[:,130].round(0)\n",
    "train_enn2.iloc[:,0:116] = train_enn2.iloc[:,0:116].round(0)\n",
    "train_enn2.iloc[:,130] = train_enn2.iloc[:,130].round(0)\n",
    "train_enn3.iloc[:,0:116] = train_enn3.iloc[:,0:116].round(0)\n",
    "train_enn3.iloc[:,130] = train_enn4.iloc[:,130].round(0)\n",
    "train_enn4.iloc[:,0:116] = train_enn4.iloc[:,0:116].round(0)\n",
    "train_enn4.iloc[:,130] = train_enn4.iloc[:,130].round(0)\n",
    "\n",
    "train_enn1.to_csv('input/train_enn1.csv', index=False)\n",
    "train_enn2.to_csv('input/train_enn2.csv', index=False)\n",
    "train_enn3.to_csv('input/train_enn3.csv', index=False)\n",
    "train_enn4.to_csv('input/train_enn4.csv', index=False)\n"
   ]
  }
 ],
 "metadata": {
  "kernelspec": {
   "display_name": "Python [Root]",
   "language": "python",
   "name": "Python [Root]"
  },
  "language_info": {
   "codemirror_mode": {
    "name": "ipython",
    "version": 2
   },
   "file_extension": ".py",
   "mimetype": "text/x-python",
   "name": "python",
   "nbconvert_exporter": "python",
   "pygments_lexer": "ipython2",
   "version": "2.7.12"
  }
 },
 "nbformat": 4,
 "nbformat_minor": 0
}
